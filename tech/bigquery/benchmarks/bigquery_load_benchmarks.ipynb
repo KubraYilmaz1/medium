{
  "nbformat": 4,
  "nbformat_minor": 0,
  "metadata": {
    "colab": {
      "name": "bigquery_load_benchmarks.ipynb",
      "provenance": [],
      "toc_visible": true,
      "authorship_tag": "ABX9TyPL/YhcDZ2+5siOZnf26dew",
      "include_colab_link": true
    },
    "kernelspec": {
      "name": "python3",
      "display_name": "Python 3"
    }
  },
  "cells": [
    {
      "cell_type": "markdown",
      "metadata": {
        "id": "view-in-github",
        "colab_type": "text"
      },
      "source": [
        "<a href=\"https://colab.research.google.com/github/niczky12/medium/blob/bq_file_loads/tech/bigquery/benchmarks/bigquery_load_benchmarks.ipynb\" target=\"_parent\"><img src=\"https://colab.research.google.com/assets/colab-badge.svg\" alt=\"Open In Colab\"/></a>"
      ]
    },
    {
      "cell_type": "markdown",
      "metadata": {
        "id": "4FiIhZpS2LIA",
        "colab_type": "text"
      },
      "source": [
        "# BigQuery Load Time Benchmarks\n",
        "\n",
        "Here we'll compare the the load times into BigQuery for different file formats and sizes. This includes AVRO, CSV, CSV.GZIP and PARQUET files.\n",
        "\n",
        "## Import packages\n"
      ]
    },
    {
      "cell_type": "code",
      "metadata": {
        "id": "1ia25fgL2kmA",
        "colab_type": "code",
        "colab": {
          "base_uri": "https://localhost:8080/",
          "height": 136
        },
        "outputId": "848c3e0b-c7a8-458d-9590-08ce10355ffb"
      },
      "source": [
        "pip install pandavro"
      ],
      "execution_count": 1,
      "outputs": [
        {
          "output_type": "stream",
          "text": [
            "Requirement already satisfied: pandavro in /usr/local/lib/python3.6/dist-packages (1.5.1)\n",
            "Requirement already satisfied: six>=1.9 in /usr/local/lib/python3.6/dist-packages (from pandavro) (1.12.0)\n",
            "Requirement already satisfied: pandas in /usr/local/lib/python3.6/dist-packages (from pandavro) (1.0.5)\n",
            "Requirement already satisfied: fastavro>=0.14.11 in /usr/local/lib/python3.6/dist-packages (from pandavro) (0.23.5)\n",
            "Requirement already satisfied: numpy>=1.7.0 in /usr/local/lib/python3.6/dist-packages (from pandavro) (1.18.5)\n",
            "Requirement already satisfied: python-dateutil>=2.6.1 in /usr/local/lib/python3.6/dist-packages (from pandas->pandavro) (2.8.1)\n",
            "Requirement already satisfied: pytz>=2017.2 in /usr/local/lib/python3.6/dist-packages (from pandas->pandavro) (2018.9)\n"
          ],
          "name": "stdout"
        }
      ]
    },
    {
      "cell_type": "code",
      "metadata": {
        "id": "cnPuCphO1RNG",
        "colab_type": "code",
        "colab": {}
      },
      "source": [
        "from sklearn import datasets\n",
        "import pandas as pd\n",
        "import datetime\n",
        "import hashlib\n",
        "import pandavro\n",
        "import os\n",
        "import re\n",
        "import seaborn as sns\n",
        "import matplotlib.pyplot as plt\n",
        "from google.cloud import (bigquery, storage)\n",
        "import uuid"
      ],
      "execution_count": 36,
      "outputs": []
    },
    {
      "cell_type": "code",
      "metadata": {
        "id": "fRSYBu2c2xq0",
        "colab_type": "code",
        "colab": {}
      },
      "source": [
        "# authenticate to GCP\n",
        "from google.colab import auth\n",
        "auth.authenticate_user()"
      ],
      "execution_count": 9,
      "outputs": []
    },
    {
      "cell_type": "code",
      "metadata": {
        "id": "lByb2O_p29yF",
        "colab_type": "code",
        "colab": {}
      },
      "source": [
        "# Create a test bucket in the UI and define its name hare\n",
        "BUCKET_NAME = \"yetanothertestbucket-efas123d\"\n",
        "\n",
        "# also setup a local folder for copying files into\n",
        "FOLDER = \"data\"\n",
        "\n",
        "# config for BQ dataset\n",
        "PROJECT_ID = \"medium-279206\"\n",
        "LOCATION=\"europe-west2\"\n",
        "DATASET_NAME = \"loadbench\""
      ],
      "execution_count": 27,
      "outputs": []
    },
    {
      "cell_type": "markdown",
      "metadata": {
        "id": "2-iPNVMM3Rao",
        "colab_type": "text"
      },
      "source": [
        "## Generate some dummy files\n",
        "\n",
        "We will now creat some dummy dataframes to upload to GCS. I used `sklearn`'s `datasets.make_regression` function."
      ]
    },
    {
      "cell_type": "code",
      "metadata": {
        "id": "B8k8Gt4u3LxB",
        "colab_type": "code",
        "colab": {}
      },
      "source": [
        "def make_int(x: int) -> int:\n",
        "    return int(x * 100000)\n",
        "\n",
        "\n",
        "def make_datetime(x: int) -> datetime.datetime:\n",
        "    return datetime.datetime.fromtimestamp(abs(make_int(x)))\n",
        "\n",
        "\n",
        "def make_string(x: int) -> str:\n",
        "    return hashlib.sha1(str(x).encode()).hexdigest()\n",
        "\n",
        "\n",
        "def make_char(x: int) -> str:\n",
        "    return chr(97 + (make_int(x) % 26))\n",
        "\n",
        "\n",
        "def col_name_formatter(x: int) -> str:\n",
        "    return f\"col_{x:04d}\"\n",
        "\n",
        "\n",
        "def make_random_dataset(\n",
        "    rows: int,\n",
        "    float_cols: int = 1,\n",
        "    int_cols: int = 1,\n",
        "    datetime_cols: int = 1,\n",
        "    string_cols: int = 1,\n",
        "    char_cols: int = 1,\n",
        ") -> pd.DataFrame:\n",
        "\n",
        "    functions = [\n",
        "        lambda x: x,\n",
        "        make_int,\n",
        "        make_datetime,\n",
        "        make_string,\n",
        "        make_char,\n",
        "    ]\n",
        "\n",
        "    quantities = [\n",
        "        float_cols,\n",
        "        int_cols,\n",
        "        datetime_cols,\n",
        "        string_cols,\n",
        "        char_cols,\n",
        "    ]\n",
        "\n",
        "    total_columns = sum(quantities)\n",
        "\n",
        "    X, _ = datasets.make_regression(\n",
        "        n_samples=rows, n_features=total_columns\n",
        "    )\n",
        "\n",
        "    df = pd.DataFrame(\n",
        "        X,\n",
        "        columns=[\n",
        "            col_name_formatter(i)\n",
        "            for i in range(total_columns)\n",
        "        ],\n",
        "    )\n",
        "\n",
        "    start_index = 0\n",
        "\n",
        "    for fn, quantity in zip(functions, quantities):\n",
        "        if quantity == 0:\n",
        "            continue\n",
        "\n",
        "        end_index = start_index + quantity\n",
        "        df.iloc[:, start_index:end_index] = df.iloc[\n",
        "            :, start_index:end_index\n",
        "        ].applymap(fn)\n",
        "        start_index = end_index\n",
        "\n",
        "    return df\n",
        "\n",
        "\n",
        "df = make_random_dataset(5_000, 50, 50, 50, 50, 50)\n",
        "large_df = pd.concat((df for _ in range(10)))\n",
        "\n",
        "os.makedirs(FOLDER, exist_ok=True)\n",
        "\n",
        "save_functions = {\n",
        "    \"csv\": lambda df, fname: df.to_csv(\n",
        "        f\"{FOLDER}/CSV_{df.shape[0]}_{fname}.csv\",\n",
        "        index=False,\n",
        "    ),\n",
        "    \"gzip\": lambda df, fname: df.to_csv(\n",
        "        f\"{FOLDER}/GZIP_{df.shape[0]}_{fname}.csv.gzip\",\n",
        "        index=False,\n",
        "        compression=\"gzip\",\n",
        "    ),\n",
        "    \"parquet\": lambda df, fname: df.to_parquet(\n",
        "        f\"{FOLDER}/PARQUET_{df.shape[0]}_{fname}.parquet\",\n",
        "        index=False,\n",
        "    ),\n",
        "    \"avro\": lambda df, fname: pandavro.to_avro(\n",
        "        f\"{FOLDER}/AVRO_{df.shape[0]}_{fname}.avro\", df\n",
        "    ),\n",
        "}\n",
        "\n",
        "for save_function in save_functions.values():\n",
        "    for fname, data in zip(\n",
        "        (\"small\", \"large\"), (df, large_df)\n",
        "    ):\n",
        "        save_function(data, fname)\n"
      ],
      "execution_count": 28,
      "outputs": []
    },
    {
      "cell_type": "markdown",
      "metadata": {
        "id": "3y-zgpHQ3yNy",
        "colab_type": "text"
      },
      "source": [
        "## Comparing file sizes\n"
      ]
    },
    {
      "cell_type": "code",
      "metadata": {
        "id": "cRHgw26O3plt",
        "colab_type": "code",
        "colab": {}
      },
      "source": [
        "file_pattern = r\"CSV|GZIP|PARQUET|AVRO\"\n",
        "row_pattern = r\"\\d+\"\n",
        "file_names = [\n",
        "    f\"{FOLDER}/{f}\"\n",
        "    for f in os.listdir(FOLDER)\n",
        "    if re.search(file_pattern, f)\n",
        "]\n",
        "\n",
        "file_info = []\n",
        "\n",
        "file_size_mb = lambda fname: os.path.getsize(fname) / (\n",
        "    2 ** 20\n",
        ")\n",
        "\n",
        "for fname in file_names:\n",
        "    size = file_size_mb(fname)\n",
        "    extension = re.search(file_pattern, fname).group()\n",
        "    rows = int(re.search(row_pattern, fname).group())\n",
        "    size = file_size_mb(fname)\n",
        "\n",
        "    file_info.append(\n",
        "        {\n",
        "            \"fname\": fname,\n",
        "            \"extension\": extension,\n",
        "            \"rows\": rows,\n",
        "            \"size\": size,\n",
        "        }\n",
        "    )"
      ],
      "execution_count": 29,
      "outputs": []
    },
    {
      "cell_type": "code",
      "metadata": {
        "id": "SsSAXhxU4CHB",
        "colab_type": "code",
        "colab": {
          "base_uri": "https://localhost:8080/",
          "height": 279
        },
        "outputId": "e2d132ec-7b89-43a6-b024-a646be0710fe"
      },
      "source": [
        "# visualise the file sizes\n",
        "ax = sns.barplot(\n",
        "    x=\"extension\",\n",
        "    y=\"size\",\n",
        "    hue=\"rows\",\n",
        "    data=pd.DataFrame(file_info),\n",
        ")\n",
        "ax.set(xlabel=\"File Type\", ylabel=\"Size in MBs\")\n",
        "plt.show()"
      ],
      "execution_count": 30,
      "outputs": [
        {
          "output_type": "display_data",
          "data": {
            "image/png": "[encoded data removed]",
            "text/plain": [
              "<Figure size 432x288 with 1 Axes>"
            ]
          },
          "metadata": {
            "tags": [],
            "needs_background": "light"
          }
        }
      ]
    },
    {
      "cell_type": "code",
      "metadata": {
        "id": "5LIDDSIX69tF",
        "colab_type": "code",
        "colab": {
          "base_uri": "https://localhost:8080/",
          "height": 34
        },
        "outputId": "a5162218-9ff9-44df-a54d-a9133b13fdb5"
      },
      "source": [
        "# copy all the files to the bucket\n",
        "cmd = f\"gsutil -m rsync {FOLDER}/ gs://{BUCKET_NAME}/\"\n",
        "os.system(cmd)"
      ],
      "execution_count": 31,
      "outputs": [
        {
          "output_type": "execute_result",
          "data": {
            "text/plain": [
              "0"
            ]
          },
          "metadata": {
            "tags": []
          },
          "execution_count": 31
        }
      ]
    },
    {
      "cell_type": "code",
      "metadata": {
        "id": "hgJFhI3o7YJV",
        "colab_type": "code",
        "colab": {
          "base_uri": "https://localhost:8080/",
          "height": 34
        },
        "outputId": "f0392b09-faac-40bd-c232-79727adf8c2c"
      },
      "source": [
        "dataset_command = f\"\"\"bq --location={LOCATION} mk \\\n",
        "--dataset \\\n",
        "--default_table_expiration 3600 \\\n",
        "--description \"Benchmarking bigquery load times\" \\\n",
        "{PROJECT_ID}:{DATASET_NAME}\"\"\"\n",
        "\n",
        "os.system(dataset_command)"
      ],
      "execution_count": 26,
      "outputs": [
        {
          "output_type": "execute_result",
          "data": {
            "text/plain": [
              "0"
            ]
          },
          "metadata": {
            "tags": []
          },
          "execution_count": 26
        }
      ]
    },
    {
      "cell_type": "code",
      "metadata": {
        "id": "3LDuf8FuCT8G",
        "colab_type": "code",
        "colab": {}
      },
      "source": [
        "client = storage.Client(project=PROJECT_ID)\n",
        "bq_client = bigquery.Client(project=PROJECT_ID)\n",
        "\n",
        "def add_prefix(filename):\n",
        "    return f\"{uuid.uuid4().hex}_{filename}\"\n",
        "\n",
        "def benchmark(blob_name,\n",
        "    job_config,\n",
        "    repeat=1, duplicate=1,\n",
        "    bucket_name=BUCKET_NAME,\n",
        "    dataset_name=DATASET_NAME,\n",
        "    storage_client=client,\n",
        "    bigquery_client=bq_client):\n",
        "\n",
        "    bucket = client.get_bucket(bucket_name)\n",
        "    from_blob = bucket.get_blob(blob_name)\n",
        "\n",
        "    # copy the files\n",
        "    new_path = add_prefix(blob_name)\n",
        "\n",
        "    for i in range(duplicate):\n",
        "        new_name = f\"{new_path}/{blob_name}_{i:05d}\"\n",
        "        bucket.copy_blob(from_blob, bucket, new_name=new_name, client=client)\n",
        "\n",
        "\n",
        "    for i in range(repeat):\n",
        "        table_name = add_prefix(f\"{i:05d}\")\n",
        "        table_ref = bq_client.dataset(dataset_name).table(\n",
        "            table_name\n",
        "        )\n",
        "        job = bq_client.load_table_from_uri(\n",
        "            f\"gs://{BUCKET_NAME}/{new_path}/*\",\n",
        "            table_ref, job_config=job_config\n",
        "        )\n",
        "\n",
        "    return job\n"
      ],
      "execution_count": 41,
      "outputs": []
    },
    {
      "cell_type": "code",
      "metadata": {
        "id": "LwJkzw9kFGv5",
        "colab_type": "code",
        "colab": {}
      },
      "source": [
        "job_config = bigquery.LoadJobConfig()\n",
        "job_config.source_format = bigquery.SourceFormat.CSV\n",
        "job_config.skip_leading_rows = 1\n",
        "job_config.autodetect = True\n",
        "\n",
        "\n",
        "blob_name = \"CSV_5000_small.csv\""
      ],
      "execution_count": 39,
      "outputs": []
    },
    {
      "cell_type": "code",
      "metadata": {
        "id": "ezUbrYlOFc0T",
        "colab_type": "code",
        "colab": {}
      },
      "source": [
        "j = benchmark(blob_name, job_config)"
      ],
      "execution_count": 42,
      "outputs": []
    },
    {
      "cell_type": "code",
      "metadata": {
        "id": "hEfVyxvHFfv2",
        "colab_type": "code",
        "colab": {
          "base_uri": "https://localhost:8080/",
          "height": 34
        },
        "outputId": "bcfb093d-532c-43bb-dee7-4d6805c8afeb"
      },
      "source": [
        "j"
      ],
      "execution_count": 43,
      "outputs": [
        {
          "output_type": "execute_result",
          "data": {
            "text/plain": [
              "<google.cloud.bigquery.job.LoadJob at 0x7fc6bf0a5550>"
            ]
          },
          "metadata": {
            "tags": []
          },
          "execution_count": 43
        }
      ]
    },
    {
      "cell_type": "code",
      "metadata": {
        "id": "HaGVDb0cF26U",
        "colab_type": "code",
        "colab": {
          "base_uri": "https://localhost:8080/",
          "height": 164
        },
        "outputId": "93582089-2187-4357-f613-fdd1d4abeac0"
      },
      "source": [
        "j.wait()"
      ],
      "execution_count": 44,
      "outputs": [
        {
          "output_type": "error",
          "ename": "AttributeError",
          "evalue": "ignored",
          "traceback": [
            "\u001b[0;31m---------------------------------------------------------------------------\u001b[0m",
            "\u001b[0;31mAttributeError\u001b[0m                            Traceback (most recent call last)",
            "\u001b[0;32m<ipython-input-44-f06928870e3d>\u001b[0m in \u001b[0;36m<module>\u001b[0;34m()\u001b[0m\n\u001b[0;32m----> 1\u001b[0;31m \u001b[0mj\u001b[0m\u001b[0;34m.\u001b[0m\u001b[0mwait\u001b[0m\u001b[0;34m(\u001b[0m\u001b[0;34m)\u001b[0m\u001b[0;34m\u001b[0m\u001b[0;34m\u001b[0m\u001b[0m\n\u001b[0m",
            "\u001b[0;31mAttributeError\u001b[0m: 'LoadJob' object has no attribute 'wait'"
          ]
        }
      ]
    },
    {
      "cell_type": "code",
      "metadata": {
        "id": "TLMhxxV9F5mk",
        "colab_type": "code",
        "colab": {
          "base_uri": "https://localhost:8080/",
          "height": 34
        },
        "outputId": "5954b82e-27a8-4a67-f127-bc5a12379be3"
      },
      "source": [
        "j.result()"
      ],
      "execution_count": 45,
      "outputs": [
        {
          "output_type": "execute_result",
          "data": {
            "text/plain": [
              "<google.cloud.bigquery.job.LoadJob at 0x7fc6bf0a5550>"
            ]
          },
          "metadata": {
            "tags": []
          },
          "execution_count": 45
        }
      ]
    },
    {
      "cell_type": "code",
      "metadata": {
        "id": "3eHz7YVjF_Be",
        "colab_type": "code",
        "colab": {
          "base_uri": "https://localhost:8080/",
          "height": 34
        },
        "outputId": "dce59800-4952-4299-89a6-744e75df3b13"
      },
      "source": [
        "j.ended"
      ],
      "execution_count": 46,
      "outputs": [
        {
          "output_type": "execute_result",
          "data": {
            "text/plain": [
              "datetime.datetime(2020, 6, 24, 6, 50, 22, 454000, tzinfo=<UTC>)"
            ]
          },
          "metadata": {
            "tags": []
          },
          "execution_count": 46
        }
      ]
    },
    {
      "cell_type": "code",
      "metadata": {
        "id": "P5cS11-IGgRK",
        "colab_type": "code",
        "colab": {
          "base_uri": "https://localhost:8080/",
          "height": 34
        },
        "outputId": "89d5e716-ad1e-47e8-f488-b380ddc183a4"
      },
      "source": [
        "j.started"
      ],
      "execution_count": 47,
      "outputs": [
        {
          "output_type": "execute_result",
          "data": {
            "text/plain": [
              "datetime.datetime(2020, 6, 24, 6, 50, 14, 532000, tzinfo=<UTC>)"
            ]
          },
          "metadata": {
            "tags": []
          },
          "execution_count": 47
        }
      ]
    },
    {
      "cell_type": "code",
      "metadata": {
        "id": "OtfquLYaGhgH",
        "colab_type": "code",
        "colab": {}
      },
      "source": [
        ""
      ],
      "execution_count": null,
      "outputs": []
    }
  ]
}